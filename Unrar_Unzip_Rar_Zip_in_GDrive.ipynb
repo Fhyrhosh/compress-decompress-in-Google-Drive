{
  "nbformat": 4,
  "nbformat_minor": 0,
  "metadata": {
    "colab": {
      "name": "Unrar, Unzip, Rar, Zip in GDrive",
      "provenance": [],
      "collapsed_sections": [
        "CFFPQjl-iX0m",
        "hi4f8Ba-diVf",
        "bAls_UEYfwIX",
        "IoAshgcf45gs",
        "mOnUdLJqVaYA",
        "VKdYIG49VaYA",
        "BjYXYIk0VaYE"
      ],
      "toc_visible": true
    },
    "kernelspec": {
      "name": "python3",
      "display_name": "Python 3"
    },
    "accelerator": "GPU"
  },
  "cells": [
    {
      "cell_type": "markdown",
      "metadata": {
        "id": "view-in-github",
        "colab_type": "text"
      },
      "source": [
        "<a href=\"https://colab.research.google.com/github/sudo-ken/compress-decompress-in-Google-Drive/blob/master/Unrar_Unzip_Rar_Zip_in_GDrive.ipynb\" target=\"_parent\"><img src=\"https://colab.research.google.com/assets/colab-badge.svg\" alt=\"Open In Colab\"/></a>"
      ]
    },
    {
      "cell_type": "markdown",
      "metadata": {
        "id": "rlX9RzFJRoW-",
        "colab_type": "text"
      },
      "source": [
        "# **<font color='blue'> Unrar, Unzip, Rar, Zip in GDrive - Shared by [SudoKen](https://www.youtube.com/channel/UCZq5YhZIR-250zX_MzkTbxA?sub_confirmation=1) </font>**"
      ]
    },
    {
      "cell_type": "markdown",
      "metadata": {
        "id": "tdHkmd6olkGV",
        "colab_type": "text"
      },
      "source": [
        "## **<font color=\"red\">Important note</font> - After doing all the steps, please note that depending on your file size of the Zip and Rar files, it may take a while to show up in your Google Drive. Please be patient. Eventually, it will show up in your drive.**\n",
        "###**<font color=\"red\">For larger files</font> - it may take some time to show up in your Google Drive. Do not rerun the code if it doesn't show up fast. Just keep refreshing your Google Drive page to see if it shows up**\n",
        "###**<font color=\"red\">For small files</font> - it will show up quicker in your Google Drive. Just wait until it shows up. Just keep refreshing your page to see if it shows up**\n"
      ]
    },
    {
      "cell_type": "markdown",
      "metadata": {
        "id": "CFFPQjl-iX0m",
        "colab_type": "text"
      },
      "source": [
        "#__Mount GDrive to /content/drive__"
      ]
    },
    {
      "cell_type": "code",
      "metadata": {
        "id": "TfWtGXmqbggL",
        "colab_type": "code",
        "cellView": "form",
        "colab": {}
      },
      "source": [
        "#@markdown <br><center><img src='https://upload.wikimedia.org/wikipedia/commons/thumb/d/da/Google_Drive_logo.png/600px-Google_Drive_logo.png' height=\"50\" alt=\"Gdrive-logo\"/></center>\n",
        "#@markdown <center><h3>Mount GDrive to /content/drive</h3></center><br>\n",
        "MODE = \"MOUNT\" #@param [\"MOUNT\", \"UNMOUNT\"]\n",
        "#Mount your Gdrive! \n",
        "from google.colab import drive\n",
        "drive.mount._DEBUG = False\n",
        "if MODE == \"MOUNT\":\n",
        "  drive.mount('/content/drive', force_remount=True)\n",
        "elif MODE == \"UNMOUNT\":\n",
        "  try:\n",
        "    drive.flush_and_unmount()\n",
        "  except ValueError:\n",
        "    pass\n",
        "  get_ipython().system_raw(\"rm -rf /root/.config/Google/DriveFS\")"
      ],
      "execution_count": null,
      "outputs": []
    },
    {
      "cell_type": "markdown",
      "metadata": {
        "colab_type": "text",
        "id": "hi4f8Ba-diVf"
      },
      "source": [
        "#__Unzip/Unrar Files__"
      ]
    },
    {
      "cell_type": "markdown",
      "metadata": {
        "id": "bAls_UEYfwIX",
        "colab_type": "text"
      },
      "source": [
        "##__Unzip Files__\n",
        "\n"
      ]
    },
    {
      "cell_type": "markdown",
      "metadata": {
        "colab_type": "text",
        "id": "o_zFmom9fWNW"
      },
      "source": [
        "*   First path in below cell - Your Google Drive file location which you want to Unzip\n",
        "*   Second path in below cell - Path where you want to extract the zip file in Google Drive\n",
        "\n"
      ]
    },
    {
      "cell_type": "code",
      "metadata": {
        "colab_type": "code",
        "id": "O1_kc7HBeslm",
        "cellView": "both",
        "colab": {}
      },
      "source": [
        "!unzip \"/content/drive/path/input_file_name.zip\" -d \"/content/drive/path/output_folder/\""
      ],
      "execution_count": null,
      "outputs": []
    },
    {
      "cell_type": "markdown",
      "metadata": {
        "id": "IoAshgcf45gs",
        "colab_type": "text"
      },
      "source": [
        "##__Unrar Files</center>__\n",
        "\n",
        "\n",
        "\n"
      ]
    },
    {
      "cell_type": "markdown",
      "metadata": {
        "id": "Z1Ql6FiDdBYW",
        "colab_type": "text"
      },
      "source": [
        "*   First path in below cell - Your Google Drive file location which you want to Unrar\n",
        "*   Second path in below cell - Path where you want to extract the rar file in Google Drive\n",
        "\n"
      ]
    },
    {
      "cell_type": "code",
      "metadata": {
        "id": "5ScZvnCdzKm3",
        "colab_type": "code",
        "cellView": "both",
        "colab": {}
      },
      "source": [
        "!unrar e \"/content/drive/path/input_file_name.rar\" \"/content/drive/path/output_folder/\""
      ],
      "execution_count": null,
      "outputs": []
    },
    {
      "cell_type": "markdown",
      "metadata": {
        "colab_type": "text",
        "id": "mOnUdLJqVaYA"
      },
      "source": [
        "#__Zip/Rar Files/Folders__"
      ]
    },
    {
      "cell_type": "markdown",
      "metadata": {
        "colab_type": "text",
        "id": "VKdYIG49VaYA"
      },
      "source": [
        "##__Zip Files/Folders__\n",
        "\n"
      ]
    },
    {
      "cell_type": "markdown",
      "metadata": {
        "colab_type": "text",
        "id": "n_x6sSnoVaYB"
      },
      "source": [
        "*   First path in below cell - Your Zip output filename\n",
        "*   Second path in below cell - Google Drive file location of the files which you want to Zip\n",
        "\n"
      ]
    },
    {
      "cell_type": "code",
      "metadata": {
        "colab_type": "code",
        "cellView": "both",
        "id": "zZ4DrMhmVaYB",
        "colab": {}
      },
      "source": [
        "!zip -r \"/content/drive/path/output_file_name.zip\" \"/content/drive/path/input_file_or_folder\""
      ],
      "execution_count": null,
      "outputs": []
    },
    {
      "cell_type": "markdown",
      "metadata": {
        "colab_type": "text",
        "id": "BjYXYIk0VaYE"
      },
      "source": [
        "##__Rar Files/Folders__\n",
        "\n",
        "\n",
        "\n"
      ]
    },
    {
      "cell_type": "code",
      "metadata": {
        "id": "lNeNaDMSWHFI",
        "colab_type": "code",
        "colab": {}
      },
      "source": [
        "# <= Click this cell to rar the folder\n",
        "\n",
        "!apt-get install rar"
      ],
      "execution_count": null,
      "outputs": []
    },
    {
      "cell_type": "markdown",
      "metadata": {
        "colab_type": "text",
        "id": "G24N0obDVaYE"
      },
      "source": [
        "*   First path in below cell - Your Rar File output Name (do not put .rar at the end. It will take it automatically)\n",
        "*   Second path in below cell - Google Drive file location of the files/folder which you want to Rar\n"
      ]
    },
    {
      "cell_type": "code",
      "metadata": {
        "colab_type": "code",
        "cellView": "both",
        "id": "WtbqIDwIVaYF",
        "colab": {}
      },
      "source": [
        "!rar a \"/content/drive/path/output_file_name\" \"/content/drive/path/input_file_or_folder\""
      ],
      "execution_count": null,
      "outputs": []
    },
    {
      "cell_type": "markdown",
      "metadata": {
        "id": "mUnldBYjp-sa",
        "colab_type": "text"
      },
      "source": [
        "#◀️ To get more cool stuff like this, subscribe to the Youtube Channel: [SudoKen](https://www.youtube.com/channel/UCZq5YhZIR-250zX_MzkTbxA?sub_confirmation=1)"
      ]
    }
  ]
}
